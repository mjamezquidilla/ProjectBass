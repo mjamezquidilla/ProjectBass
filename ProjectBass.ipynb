{
 "cells": [
  {
   "cell_type": "markdown",
   "metadata": {},
   "source": [
    "# Initial Data Analytics for Project BASS"
   ]
  },
  {
   "cell_type": "markdown",
   "metadata": {},
   "source": [
    "## Step 1: Data Mining and Cleaning"
   ]
  },
  {
   "cell_type": "code",
   "execution_count": 1,
   "metadata": {
    "collapsed": true
   },
   "outputs": [],
   "source": [
    "import pandas as pd"
   ]
  },
  {
   "cell_type": "markdown",
   "metadata": {},
   "source": [
    "importing the dataset"
   ]
  },
  {
   "cell_type": "code",
   "execution_count": 2,
   "metadata": {},
   "outputs": [
    {
     "name": "stderr",
     "output_type": "stream",
     "text": [
      "C:\\Anaconda3\\lib\\site-packages\\IPython\\core\\interactiveshell.py:2698: DtypeWarning: Columns (5,8,9,11,13,43) have mixed types. Specify dtype option on import or set low_memory=False.\n",
      "  interactivity=interactivity, compiler=compiler, result=result)\n"
     ]
    }
   ],
   "source": [
    "df = pd.read_csv('scan_results.csv',',', error_bad_lines=False)"
   ]
  },
  {
   "cell_type": "markdown",
   "metadata": {},
   "source": [
    "showing first 5 rows of the dataset"
   ]
  },
  {
   "cell_type": "code",
   "execution_count": 3,
   "metadata": {},
   "outputs": [
    {
     "data": {
      "text/html": [
       "<div>\n",
       "<style>\n",
       "    .dataframe thead tr:only-child th {\n",
       "        text-align: right;\n",
       "    }\n",
       "\n",
       "    .dataframe thead th {\n",
       "        text-align: left;\n",
       "    }\n",
       "\n",
       "    .dataframe tbody tr th {\n",
       "        vertical-align: top;\n",
       "    }\n",
       "</style>\n",
       "<table border=\"1\" class=\"dataframe\">\n",
       "  <thead>\n",
       "    <tr style=\"text-align: right;\">\n",
       "      <th></th>\n",
       "      <th>TESTNUMBER</th>\n",
       "      <th>BANDWIDTH</th>\n",
       "      <th>OPERATOR</th>\n",
       "      <th>SIGNAL</th>\n",
       "      <th>SIGNALBARS</th>\n",
       "      <th>CONNECTIVITY_available</th>\n",
       "      <th>CONNECTIVITY_detailedState</th>\n",
       "      <th>CONNECTIVITY_extraInfo</th>\n",
       "      <th>CONNECTIVITY_failOver</th>\n",
       "      <th>CONNECTIVITY_roaming</th>\n",
       "      <th>...</th>\n",
       "      <th>LOCATION_mLongitude</th>\n",
       "      <th>LOCATION_mProvider</th>\n",
       "      <th>LOCATION_mSpeed</th>\n",
       "      <th>NETWORK_cid</th>\n",
       "      <th>NETWORK_lac</th>\n",
       "      <th>NETWORK_mcc</th>\n",
       "      <th>NETWORK_mnc</th>\n",
       "      <th>VERSION</th>\n",
       "      <th>LOCATION_epochTime</th>\n",
       "      <th>Unnamed: 43</th>\n",
       "    </tr>\n",
       "  </thead>\n",
       "  <tbody>\n",
       "    <tr>\n",
       "      <th>0</th>\n",
       "      <td>1.0</td>\n",
       "      <td>1762.0 Kbps</td>\n",
       "      <td>GLOBE</td>\n",
       "      <td>LTE : -97</td>\n",
       "      <td>null</td>\n",
       "      <td>TRUE</td>\n",
       "      <td>CONNECTED</td>\n",
       "      <td>NETGEAR44</td>\n",
       "      <td>FALSE</td>\n",
       "      <td>FALSE</td>\n",
       "      <td>...</td>\n",
       "      <td>123.963</td>\n",
       "      <td>fused</td>\n",
       "      <td>0</td>\n",
       "      <td>null</td>\n",
       "      <td>null</td>\n",
       "      <td>null</td>\n",
       "      <td>null</td>\n",
       "      <td>null</td>\n",
       "      <td>11/08/2017 17:00</td>\n",
       "      <td>NaN</td>\n",
       "    </tr>\n",
       "    <tr>\n",
       "      <th>1</th>\n",
       "      <td>2.0</td>\n",
       "      <td>1762.0 Kbps</td>\n",
       "      <td>GLOBE</td>\n",
       "      <td>LTE : -97</td>\n",
       "      <td>null</td>\n",
       "      <td>TRUE</td>\n",
       "      <td>CONNECTED</td>\n",
       "      <td>NETGEAR44</td>\n",
       "      <td>FALSE</td>\n",
       "      <td>FALSE</td>\n",
       "      <td>...</td>\n",
       "      <td>123.963</td>\n",
       "      <td>fused</td>\n",
       "      <td>0</td>\n",
       "      <td>null</td>\n",
       "      <td>null</td>\n",
       "      <td>null</td>\n",
       "      <td>null</td>\n",
       "      <td>null</td>\n",
       "      <td>11/08/2017 17:00</td>\n",
       "      <td>NaN</td>\n",
       "    </tr>\n",
       "    <tr>\n",
       "      <th>2</th>\n",
       "      <td>3.0</td>\n",
       "      <td>188.0 Kbps</td>\n",
       "      <td>GLOBE</td>\n",
       "      <td>WCDMA : -79</td>\n",
       "      <td>null</td>\n",
       "      <td>TRUE</td>\n",
       "      <td>CONNECTED</td>\n",
       "      <td>internet.globe.com.ph</td>\n",
       "      <td>FALSE</td>\n",
       "      <td>FALSE</td>\n",
       "      <td>...</td>\n",
       "      <td>120.439</td>\n",
       "      <td>fused</td>\n",
       "      <td>0</td>\n",
       "      <td>null</td>\n",
       "      <td>null</td>\n",
       "      <td>null</td>\n",
       "      <td>null</td>\n",
       "      <td>null</td>\n",
       "      <td>11/08/2017 17:00</td>\n",
       "      <td>NaN</td>\n",
       "    </tr>\n",
       "    <tr>\n",
       "      <th>3</th>\n",
       "      <td>4.0</td>\n",
       "      <td>163.0 Kbps</td>\n",
       "      <td>GLOBE</td>\n",
       "      <td>WCDMA : -103</td>\n",
       "      <td>null</td>\n",
       "      <td>TRUE</td>\n",
       "      <td>CONNECTED</td>\n",
       "      <td>internet.globe.com.ph</td>\n",
       "      <td>FALSE</td>\n",
       "      <td>FALSE</td>\n",
       "      <td>...</td>\n",
       "      <td>120.439</td>\n",
       "      <td>fused</td>\n",
       "      <td>0</td>\n",
       "      <td>null</td>\n",
       "      <td>null</td>\n",
       "      <td>null</td>\n",
       "      <td>null</td>\n",
       "      <td>null</td>\n",
       "      <td>11/08/2017 17:00</td>\n",
       "      <td>NaN</td>\n",
       "    </tr>\n",
       "    <tr>\n",
       "      <th>4</th>\n",
       "      <td>5.0</td>\n",
       "      <td>163.0 Kbps</td>\n",
       "      <td>GLOBE</td>\n",
       "      <td>WCDMA : -103</td>\n",
       "      <td>null</td>\n",
       "      <td>TRUE</td>\n",
       "      <td>CONNECTED</td>\n",
       "      <td>internet.globe.com.ph</td>\n",
       "      <td>FALSE</td>\n",
       "      <td>FALSE</td>\n",
       "      <td>...</td>\n",
       "      <td>120.439</td>\n",
       "      <td>fused</td>\n",
       "      <td>0</td>\n",
       "      <td>null</td>\n",
       "      <td>null</td>\n",
       "      <td>null</td>\n",
       "      <td>null</td>\n",
       "      <td>null</td>\n",
       "      <td>11/08/2017 17:00</td>\n",
       "      <td>NaN</td>\n",
       "    </tr>\n",
       "  </tbody>\n",
       "</table>\n",
       "<p>5 rows × 44 columns</p>\n",
       "</div>"
      ],
      "text/plain": [
       "   TESTNUMBER    BANDWIDTH OPERATOR        SIGNAL SIGNALBARS  \\\n",
       "0         1.0  1762.0 Kbps    GLOBE     LTE : -97       null   \n",
       "1         2.0  1762.0 Kbps    GLOBE     LTE : -97       null   \n",
       "2         3.0   188.0 Kbps    GLOBE   WCDMA : -79       null   \n",
       "3         4.0   163.0 Kbps    GLOBE  WCDMA : -103       null   \n",
       "4         5.0   163.0 Kbps    GLOBE  WCDMA : -103       null   \n",
       "\n",
       "  CONNECTIVITY_available CONNECTIVITY_detailedState CONNECTIVITY_extraInfo  \\\n",
       "0                   TRUE                  CONNECTED              NETGEAR44   \n",
       "1                   TRUE                  CONNECTED              NETGEAR44   \n",
       "2                   TRUE                  CONNECTED  internet.globe.com.ph   \n",
       "3                   TRUE                  CONNECTED  internet.globe.com.ph   \n",
       "4                   TRUE                  CONNECTED  internet.globe.com.ph   \n",
       "\n",
       "  CONNECTIVITY_failOver CONNECTIVITY_roaming     ...     LOCATION_mLongitude  \\\n",
       "0                 FALSE                FALSE     ...                 123.963   \n",
       "1                 FALSE                FALSE     ...                 123.963   \n",
       "2                 FALSE                FALSE     ...                 120.439   \n",
       "3                 FALSE                FALSE     ...                 120.439   \n",
       "4                 FALSE                FALSE     ...                 120.439   \n",
       "\n",
       "  LOCATION_mProvider LOCATION_mSpeed NETWORK_cid NETWORK_lac NETWORK_mcc  \\\n",
       "0              fused               0        null        null        null   \n",
       "1              fused               0        null        null        null   \n",
       "2              fused               0        null        null        null   \n",
       "3              fused               0        null        null        null   \n",
       "4              fused               0        null        null        null   \n",
       "\n",
       "  NETWORK_mnc VERSION LOCATION_epochTime Unnamed: 43  \n",
       "0        null    null   11/08/2017 17:00         NaN  \n",
       "1        null    null   11/08/2017 17:00         NaN  \n",
       "2        null    null   11/08/2017 17:00         NaN  \n",
       "3        null    null   11/08/2017 17:00         NaN  \n",
       "4        null    null   11/08/2017 17:00         NaN  \n",
       "\n",
       "[5 rows x 44 columns]"
      ]
     },
     "execution_count": 3,
     "metadata": {},
     "output_type": "execute_result"
    }
   ],
   "source": [
    "df.head()"
   ]
  },
  {
   "cell_type": "markdown",
   "metadata": {},
   "source": [
    "Looking at the data if there are missing values"
   ]
  },
  {
   "cell_type": "code",
   "execution_count": 4,
   "metadata": {},
   "outputs": [
    {
     "data": {
      "text/plain": [
       "TESTNUMBER                             5\n",
       "BANDWIDTH                             54\n",
       "OPERATOR                           12094\n",
       "SIGNAL                             37470\n",
       "SIGNALBARS                             5\n",
       "CONNECTIVITY_available                 5\n",
       "CONNECTIVITY_detailedState             5\n",
       "CONNECTIVITY_extraInfo              3754\n",
       "CONNECTIVITY_failOver                  5\n",
       "CONNECTIVITY_roaming                   5\n",
       "CONNECTIVITY_state                     9\n",
       "CONNECTIVITY_subType                   5\n",
       "CONNECTIVITY_subTypeName          146439\n",
       "CONNECTIVITY_type                      5\n",
       "CONNECTIVITY_typeName                  5\n",
       "DEVICE_manufacturer                    5\n",
       "DEVICE_model                           5\n",
       "DEVICE_name                            5\n",
       "DEVICE_release                         5\n",
       "LOCATION_mAccuracy                     5\n",
       "LOCATION_mAltitude                     5\n",
       "LOCATION_mDistance                     5\n",
       "LOCATION_mElapsedRealtimeNanos         5\n",
       "LOCATION_mHasAccuracy                  5\n",
       "LOCATION_mHasAltitude                  5\n",
       "LOCATION_mHasBearing                   5\n",
       "LOCATION_mHasSpeed                     5\n",
       "LOCATION_mInitialBearing               5\n",
       "LOCATION_mIsFromMockProvider           5\n",
       "LOCATION_mLat1                         5\n",
       "LOCATION_mLat2                         5\n",
       "LOCATION_mLatitude                     5\n",
       "LOCATION_mLon1                         5\n",
       "LOCATION_mLon2                         5\n",
       "LOCATION_mLongitude                    5\n",
       "LOCATION_mProvider                     5\n",
       "LOCATION_mSpeed                        5\n",
       "NETWORK_cid                            5\n",
       "NETWORK_lac                            5\n",
       "NETWORK_mcc                            5\n",
       "NETWORK_mnc                            5\n",
       "VERSION                               10\n",
       "LOCATION_epochTime                    10\n",
       "Unnamed: 43                       222972\n",
       "dtype: int64"
      ]
     },
     "execution_count": 4,
     "metadata": {},
     "output_type": "execute_result"
    }
   ],
   "source": [
    "df.isnull().sum()"
   ]
  },
  {
   "cell_type": "markdown",
   "metadata": {},
   "source": [
    "from the initial data mining, there are at least 5 rows of missing values. It would be better if those rows are deleted from the dataframe to avoid confusion of the data\n",
    "\n",
    "filtering the data to show only the Nan and Null values from the dataframe:"
   ]
  },
  {
   "cell_type": "code",
   "execution_count": 5,
   "metadata": {},
   "outputs": [
    {
     "data": {
      "text/html": [
       "<div>\n",
       "<style>\n",
       "    .dataframe thead tr:only-child th {\n",
       "        text-align: right;\n",
       "    }\n",
       "\n",
       "    .dataframe thead th {\n",
       "        text-align: left;\n",
       "    }\n",
       "\n",
       "    .dataframe tbody tr th {\n",
       "        vertical-align: top;\n",
       "    }\n",
       "</style>\n",
       "<table border=\"1\" class=\"dataframe\">\n",
       "  <thead>\n",
       "    <tr style=\"text-align: right;\">\n",
       "      <th></th>\n",
       "      <th>TESTNUMBER</th>\n",
       "      <th>BANDWIDTH</th>\n",
       "      <th>OPERATOR</th>\n",
       "      <th>SIGNAL</th>\n",
       "      <th>SIGNALBARS</th>\n",
       "      <th>CONNECTIVITY_available</th>\n",
       "      <th>CONNECTIVITY_detailedState</th>\n",
       "      <th>CONNECTIVITY_extraInfo</th>\n",
       "      <th>CONNECTIVITY_failOver</th>\n",
       "      <th>CONNECTIVITY_roaming</th>\n",
       "      <th>...</th>\n",
       "      <th>LOCATION_mLongitude</th>\n",
       "      <th>LOCATION_mProvider</th>\n",
       "      <th>LOCATION_mSpeed</th>\n",
       "      <th>NETWORK_cid</th>\n",
       "      <th>NETWORK_lac</th>\n",
       "      <th>NETWORK_mcc</th>\n",
       "      <th>NETWORK_mnc</th>\n",
       "      <th>VERSION</th>\n",
       "      <th>LOCATION_epochTime</th>\n",
       "      <th>Unnamed: 43</th>\n",
       "    </tr>\n",
       "  </thead>\n",
       "  <tbody>\n",
       "    <tr>\n",
       "      <th>44844</th>\n",
       "      <td>NaN</td>\n",
       "      <td>NaN</td>\n",
       "      <td>null</td>\n",
       "      <td>TRUE</td>\n",
       "      <td>CONNECTED</td>\n",
       "      <td>internet.globe.com.ph</td>\n",
       "      <td>FALSE</td>\n",
       "      <td>FALSE</td>\n",
       "      <td>CONNECTED</td>\n",
       "      <td>15</td>\n",
       "      <td>...</td>\n",
       "      <td>0</td>\n",
       "      <td>null</td>\n",
       "      <td>null</td>\n",
       "      <td>null</td>\n",
       "      <td>null</td>\n",
       "      <td>4.1.0.0</td>\n",
       "      <td>11/08/2017 18:00</td>\n",
       "      <td>NaN</td>\n",
       "      <td>NaN</td>\n",
       "      <td>NaN</td>\n",
       "    </tr>\n",
       "    <tr>\n",
       "      <th>222869</th>\n",
       "      <td>NaN</td>\n",
       "      <td>NaN</td>\n",
       "      <td>null</td>\n",
       "      <td>TRUE</td>\n",
       "      <td>CONNECTED</td>\n",
       "      <td>BOOK WIFI</td>\n",
       "      <td>FALSE</td>\n",
       "      <td>FALSE</td>\n",
       "      <td>CONNECTED</td>\n",
       "      <td>0</td>\n",
       "      <td>...</td>\n",
       "      <td>0</td>\n",
       "      <td>null</td>\n",
       "      <td>null</td>\n",
       "      <td>null</td>\n",
       "      <td>null</td>\n",
       "      <td>4.1.0.0</td>\n",
       "      <td>09/09/2017 23:00</td>\n",
       "      <td>NaN</td>\n",
       "      <td>NaN</td>\n",
       "      <td>NaN</td>\n",
       "    </tr>\n",
       "    <tr>\n",
       "      <th>222874</th>\n",
       "      <td>NaN</td>\n",
       "      <td>NaN</td>\n",
       "      <td>null</td>\n",
       "      <td>TRUE</td>\n",
       "      <td>CONNECTED</td>\n",
       "      <td>BOOK WIFI</td>\n",
       "      <td>FALSE</td>\n",
       "      <td>FALSE</td>\n",
       "      <td>CONNECTED</td>\n",
       "      <td>0</td>\n",
       "      <td>...</td>\n",
       "      <td>0</td>\n",
       "      <td>null</td>\n",
       "      <td>null</td>\n",
       "      <td>null</td>\n",
       "      <td>null</td>\n",
       "      <td>4.1.0.0</td>\n",
       "      <td>09/09/2017 23:00</td>\n",
       "      <td>NaN</td>\n",
       "      <td>NaN</td>\n",
       "      <td>NaN</td>\n",
       "    </tr>\n",
       "    <tr>\n",
       "      <th>222876</th>\n",
       "      <td>NaN</td>\n",
       "      <td>NaN</td>\n",
       "      <td>null</td>\n",
       "      <td>TRUE</td>\n",
       "      <td>CONNECTED</td>\n",
       "      <td>BOOK WIFI</td>\n",
       "      <td>FALSE</td>\n",
       "      <td>FALSE</td>\n",
       "      <td>CONNECTED</td>\n",
       "      <td>0</td>\n",
       "      <td>...</td>\n",
       "      <td>0</td>\n",
       "      <td>null</td>\n",
       "      <td>null</td>\n",
       "      <td>null</td>\n",
       "      <td>null</td>\n",
       "      <td>4.1.0.0</td>\n",
       "      <td>09/09/2017 23:00</td>\n",
       "      <td>NaN</td>\n",
       "      <td>NaN</td>\n",
       "      <td>NaN</td>\n",
       "    </tr>\n",
       "    <tr>\n",
       "      <th>222878</th>\n",
       "      <td>NaN</td>\n",
       "      <td>NaN</td>\n",
       "      <td>null</td>\n",
       "      <td>TRUE</td>\n",
       "      <td>CONNECTED</td>\n",
       "      <td>BOOK WIFI</td>\n",
       "      <td>FALSE</td>\n",
       "      <td>FALSE</td>\n",
       "      <td>CONNECTED</td>\n",
       "      <td>0</td>\n",
       "      <td>...</td>\n",
       "      <td>0</td>\n",
       "      <td>null</td>\n",
       "      <td>null</td>\n",
       "      <td>null</td>\n",
       "      <td>null</td>\n",
       "      <td>4.1.0.0</td>\n",
       "      <td>09/09/2017 23:00</td>\n",
       "      <td>NaN</td>\n",
       "      <td>NaN</td>\n",
       "      <td>NaN</td>\n",
       "    </tr>\n",
       "  </tbody>\n",
       "</table>\n",
       "<p>5 rows × 44 columns</p>\n",
       "</div>"
      ],
      "text/plain": [
       "        TESTNUMBER BANDWIDTH OPERATOR SIGNAL SIGNALBARS  \\\n",
       "44844          NaN       NaN     null   TRUE  CONNECTED   \n",
       "222869         NaN       NaN     null   TRUE  CONNECTED   \n",
       "222874         NaN       NaN     null   TRUE  CONNECTED   \n",
       "222876         NaN       NaN     null   TRUE  CONNECTED   \n",
       "222878         NaN       NaN     null   TRUE  CONNECTED   \n",
       "\n",
       "       CONNECTIVITY_available CONNECTIVITY_detailedState  \\\n",
       "44844   internet.globe.com.ph                      FALSE   \n",
       "222869              BOOK WIFI                      FALSE   \n",
       "222874              BOOK WIFI                      FALSE   \n",
       "222876              BOOK WIFI                      FALSE   \n",
       "222878              BOOK WIFI                      FALSE   \n",
       "\n",
       "       CONNECTIVITY_extraInfo CONNECTIVITY_failOver CONNECTIVITY_roaming  \\\n",
       "44844                   FALSE             CONNECTED                   15   \n",
       "222869                  FALSE             CONNECTED                    0   \n",
       "222874                  FALSE             CONNECTED                    0   \n",
       "222876                  FALSE             CONNECTED                    0   \n",
       "222878                  FALSE             CONNECTED                    0   \n",
       "\n",
       "           ...     LOCATION_mLongitude LOCATION_mProvider LOCATION_mSpeed  \\\n",
       "44844      ...                       0               null            null   \n",
       "222869     ...                       0               null            null   \n",
       "222874     ...                       0               null            null   \n",
       "222876     ...                       0               null            null   \n",
       "222878     ...                       0               null            null   \n",
       "\n",
       "       NETWORK_cid NETWORK_lac NETWORK_mcc       NETWORK_mnc VERSION  \\\n",
       "44844         null        null     4.1.0.0  11/08/2017 18:00     NaN   \n",
       "222869        null        null     4.1.0.0  09/09/2017 23:00     NaN   \n",
       "222874        null        null     4.1.0.0  09/09/2017 23:00     NaN   \n",
       "222876        null        null     4.1.0.0  09/09/2017 23:00     NaN   \n",
       "222878        null        null     4.1.0.0  09/09/2017 23:00     NaN   \n",
       "\n",
       "       LOCATION_epochTime Unnamed: 43  \n",
       "44844                 NaN         NaN  \n",
       "222869                NaN         NaN  \n",
       "222874                NaN         NaN  \n",
       "222876                NaN         NaN  \n",
       "222878                NaN         NaN  \n",
       "\n",
       "[5 rows x 44 columns]"
      ]
     },
     "execution_count": 5,
     "metadata": {},
     "output_type": "execute_result"
    }
   ],
   "source": [
    "df[df['TESTNUMBER'].isnull()]"
   ]
  },
  {
   "cell_type": "code",
   "execution_count": 6,
   "metadata": {},
   "outputs": [
    {
     "data": {
      "text/plain": [
       "(222973, 44)"
      ]
     },
     "execution_count": 6,
     "metadata": {},
     "output_type": "execute_result"
    }
   ],
   "source": [
    "# Showing the original shape of the dataset\n",
    "df.shape"
   ]
  },
  {
   "cell_type": "code",
   "execution_count": 7,
   "metadata": {
    "collapsed": true
   },
   "outputs": [],
   "source": [
    "# Showing the dataframe shape after dropping the 5 null rows and modifying the dataframe\n",
    "df = df.dropna(subset = ['TESTNUMBER', 'LOCATION_epochTime'], how = 'any')"
   ]
  },
  {
   "cell_type": "markdown",
   "metadata": {},
   "source": [
    "The code above shows both dropping NA and NaT in TESTNUMBER and LOCATION_epochTime respectively."
   ]
  },
  {
   "cell_type": "code",
   "execution_count": 8,
   "metadata": {},
   "outputs": [
    {
     "data": {
      "text/html": [
       "<div>\n",
       "<style>\n",
       "    .dataframe thead tr:only-child th {\n",
       "        text-align: right;\n",
       "    }\n",
       "\n",
       "    .dataframe thead th {\n",
       "        text-align: left;\n",
       "    }\n",
       "\n",
       "    .dataframe tbody tr th {\n",
       "        vertical-align: top;\n",
       "    }\n",
       "</style>\n",
       "<table border=\"1\" class=\"dataframe\">\n",
       "  <thead>\n",
       "    <tr style=\"text-align: right;\">\n",
       "      <th></th>\n",
       "      <th>TESTNUMBER</th>\n",
       "      <th>BANDWIDTH</th>\n",
       "      <th>OPERATOR</th>\n",
       "      <th>SIGNAL</th>\n",
       "      <th>SIGNALBARS</th>\n",
       "      <th>CONNECTIVITY_available</th>\n",
       "      <th>CONNECTIVITY_detailedState</th>\n",
       "      <th>CONNECTIVITY_extraInfo</th>\n",
       "      <th>CONNECTIVITY_failOver</th>\n",
       "      <th>CONNECTIVITY_roaming</th>\n",
       "      <th>...</th>\n",
       "      <th>LOCATION_mLongitude</th>\n",
       "      <th>LOCATION_mProvider</th>\n",
       "      <th>LOCATION_mSpeed</th>\n",
       "      <th>NETWORK_cid</th>\n",
       "      <th>NETWORK_lac</th>\n",
       "      <th>NETWORK_mcc</th>\n",
       "      <th>NETWORK_mnc</th>\n",
       "      <th>VERSION</th>\n",
       "      <th>LOCATION_epochTime</th>\n",
       "      <th>Unnamed: 43</th>\n",
       "    </tr>\n",
       "  </thead>\n",
       "  <tbody>\n",
       "    <tr>\n",
       "      <th>0</th>\n",
       "      <td>1.0</td>\n",
       "      <td>1762.0 Kbps</td>\n",
       "      <td>GLOBE</td>\n",
       "      <td>LTE : -97</td>\n",
       "      <td>null</td>\n",
       "      <td>TRUE</td>\n",
       "      <td>CONNECTED</td>\n",
       "      <td>NETGEAR44</td>\n",
       "      <td>FALSE</td>\n",
       "      <td>FALSE</td>\n",
       "      <td>...</td>\n",
       "      <td>123.963</td>\n",
       "      <td>fused</td>\n",
       "      <td>0</td>\n",
       "      <td>null</td>\n",
       "      <td>null</td>\n",
       "      <td>null</td>\n",
       "      <td>null</td>\n",
       "      <td>null</td>\n",
       "      <td>11/08/2017 17:00</td>\n",
       "      <td>NaN</td>\n",
       "    </tr>\n",
       "    <tr>\n",
       "      <th>1</th>\n",
       "      <td>2.0</td>\n",
       "      <td>1762.0 Kbps</td>\n",
       "      <td>GLOBE</td>\n",
       "      <td>LTE : -97</td>\n",
       "      <td>null</td>\n",
       "      <td>TRUE</td>\n",
       "      <td>CONNECTED</td>\n",
       "      <td>NETGEAR44</td>\n",
       "      <td>FALSE</td>\n",
       "      <td>FALSE</td>\n",
       "      <td>...</td>\n",
       "      <td>123.963</td>\n",
       "      <td>fused</td>\n",
       "      <td>0</td>\n",
       "      <td>null</td>\n",
       "      <td>null</td>\n",
       "      <td>null</td>\n",
       "      <td>null</td>\n",
       "      <td>null</td>\n",
       "      <td>11/08/2017 17:00</td>\n",
       "      <td>NaN</td>\n",
       "    </tr>\n",
       "    <tr>\n",
       "      <th>2</th>\n",
       "      <td>3.0</td>\n",
       "      <td>188.0 Kbps</td>\n",
       "      <td>GLOBE</td>\n",
       "      <td>WCDMA : -79</td>\n",
       "      <td>null</td>\n",
       "      <td>TRUE</td>\n",
       "      <td>CONNECTED</td>\n",
       "      <td>internet.globe.com.ph</td>\n",
       "      <td>FALSE</td>\n",
       "      <td>FALSE</td>\n",
       "      <td>...</td>\n",
       "      <td>120.439</td>\n",
       "      <td>fused</td>\n",
       "      <td>0</td>\n",
       "      <td>null</td>\n",
       "      <td>null</td>\n",
       "      <td>null</td>\n",
       "      <td>null</td>\n",
       "      <td>null</td>\n",
       "      <td>11/08/2017 17:00</td>\n",
       "      <td>NaN</td>\n",
       "    </tr>\n",
       "    <tr>\n",
       "      <th>3</th>\n",
       "      <td>4.0</td>\n",
       "      <td>163.0 Kbps</td>\n",
       "      <td>GLOBE</td>\n",
       "      <td>WCDMA : -103</td>\n",
       "      <td>null</td>\n",
       "      <td>TRUE</td>\n",
       "      <td>CONNECTED</td>\n",
       "      <td>internet.globe.com.ph</td>\n",
       "      <td>FALSE</td>\n",
       "      <td>FALSE</td>\n",
       "      <td>...</td>\n",
       "      <td>120.439</td>\n",
       "      <td>fused</td>\n",
       "      <td>0</td>\n",
       "      <td>null</td>\n",
       "      <td>null</td>\n",
       "      <td>null</td>\n",
       "      <td>null</td>\n",
       "      <td>null</td>\n",
       "      <td>11/08/2017 17:00</td>\n",
       "      <td>NaN</td>\n",
       "    </tr>\n",
       "    <tr>\n",
       "      <th>4</th>\n",
       "      <td>5.0</td>\n",
       "      <td>163.0 Kbps</td>\n",
       "      <td>GLOBE</td>\n",
       "      <td>WCDMA : -103</td>\n",
       "      <td>null</td>\n",
       "      <td>TRUE</td>\n",
       "      <td>CONNECTED</td>\n",
       "      <td>internet.globe.com.ph</td>\n",
       "      <td>FALSE</td>\n",
       "      <td>FALSE</td>\n",
       "      <td>...</td>\n",
       "      <td>120.439</td>\n",
       "      <td>fused</td>\n",
       "      <td>0</td>\n",
       "      <td>null</td>\n",
       "      <td>null</td>\n",
       "      <td>null</td>\n",
       "      <td>null</td>\n",
       "      <td>null</td>\n",
       "      <td>11/08/2017 17:00</td>\n",
       "      <td>NaN</td>\n",
       "    </tr>\n",
       "  </tbody>\n",
       "</table>\n",
       "<p>5 rows × 44 columns</p>\n",
       "</div>"
      ],
      "text/plain": [
       "   TESTNUMBER    BANDWIDTH OPERATOR        SIGNAL SIGNALBARS  \\\n",
       "0         1.0  1762.0 Kbps    GLOBE     LTE : -97       null   \n",
       "1         2.0  1762.0 Kbps    GLOBE     LTE : -97       null   \n",
       "2         3.0   188.0 Kbps    GLOBE   WCDMA : -79       null   \n",
       "3         4.0   163.0 Kbps    GLOBE  WCDMA : -103       null   \n",
       "4         5.0   163.0 Kbps    GLOBE  WCDMA : -103       null   \n",
       "\n",
       "  CONNECTIVITY_available CONNECTIVITY_detailedState CONNECTIVITY_extraInfo  \\\n",
       "0                   TRUE                  CONNECTED              NETGEAR44   \n",
       "1                   TRUE                  CONNECTED              NETGEAR44   \n",
       "2                   TRUE                  CONNECTED  internet.globe.com.ph   \n",
       "3                   TRUE                  CONNECTED  internet.globe.com.ph   \n",
       "4                   TRUE                  CONNECTED  internet.globe.com.ph   \n",
       "\n",
       "  CONNECTIVITY_failOver CONNECTIVITY_roaming     ...     LOCATION_mLongitude  \\\n",
       "0                 FALSE                FALSE     ...                 123.963   \n",
       "1                 FALSE                FALSE     ...                 123.963   \n",
       "2                 FALSE                FALSE     ...                 120.439   \n",
       "3                 FALSE                FALSE     ...                 120.439   \n",
       "4                 FALSE                FALSE     ...                 120.439   \n",
       "\n",
       "  LOCATION_mProvider LOCATION_mSpeed NETWORK_cid NETWORK_lac NETWORK_mcc  \\\n",
       "0              fused               0        null        null        null   \n",
       "1              fused               0        null        null        null   \n",
       "2              fused               0        null        null        null   \n",
       "3              fused               0        null        null        null   \n",
       "4              fused               0        null        null        null   \n",
       "\n",
       "  NETWORK_mnc VERSION LOCATION_epochTime Unnamed: 43  \n",
       "0        null    null   11/08/2017 17:00         NaN  \n",
       "1        null    null   11/08/2017 17:00         NaN  \n",
       "2        null    null   11/08/2017 17:00         NaN  \n",
       "3        null    null   11/08/2017 17:00         NaN  \n",
       "4        null    null   11/08/2017 17:00         NaN  \n",
       "\n",
       "[5 rows x 44 columns]"
      ]
     },
     "execution_count": 8,
     "metadata": {},
     "output_type": "execute_result"
    }
   ],
   "source": [
    "df.head()"
   ]
  },
  {
   "cell_type": "markdown",
   "metadata": {},
   "source": [
    "Dropping the last column since it doesnt have any meaning to the data"
   ]
  },
  {
   "cell_type": "code",
   "execution_count": 9,
   "metadata": {
    "collapsed": true
   },
   "outputs": [],
   "source": [
    "df = df.drop('Unnamed: 43', axis=1)"
   ]
  },
  {
   "cell_type": "code",
   "execution_count": 10,
   "metadata": {},
   "outputs": [
    {
     "data": {
      "text/html": [
       "<div>\n",
       "<style>\n",
       "    .dataframe thead tr:only-child th {\n",
       "        text-align: right;\n",
       "    }\n",
       "\n",
       "    .dataframe thead th {\n",
       "        text-align: left;\n",
       "    }\n",
       "\n",
       "    .dataframe tbody tr th {\n",
       "        vertical-align: top;\n",
       "    }\n",
       "</style>\n",
       "<table border=\"1\" class=\"dataframe\">\n",
       "  <thead>\n",
       "    <tr style=\"text-align: right;\">\n",
       "      <th></th>\n",
       "      <th>TESTNUMBER</th>\n",
       "      <th>BANDWIDTH</th>\n",
       "      <th>OPERATOR</th>\n",
       "      <th>SIGNAL</th>\n",
       "      <th>SIGNALBARS</th>\n",
       "      <th>CONNECTIVITY_available</th>\n",
       "      <th>CONNECTIVITY_detailedState</th>\n",
       "      <th>CONNECTIVITY_extraInfo</th>\n",
       "      <th>CONNECTIVITY_failOver</th>\n",
       "      <th>CONNECTIVITY_roaming</th>\n",
       "      <th>...</th>\n",
       "      <th>LOCATION_mLon2</th>\n",
       "      <th>LOCATION_mLongitude</th>\n",
       "      <th>LOCATION_mProvider</th>\n",
       "      <th>LOCATION_mSpeed</th>\n",
       "      <th>NETWORK_cid</th>\n",
       "      <th>NETWORK_lac</th>\n",
       "      <th>NETWORK_mcc</th>\n",
       "      <th>NETWORK_mnc</th>\n",
       "      <th>VERSION</th>\n",
       "      <th>LOCATION_epochTime</th>\n",
       "    </tr>\n",
       "  </thead>\n",
       "  <tbody>\n",
       "    <tr>\n",
       "      <th>0</th>\n",
       "      <td>1.0</td>\n",
       "      <td>1762.0 Kbps</td>\n",
       "      <td>GLOBE</td>\n",
       "      <td>LTE : -97</td>\n",
       "      <td>null</td>\n",
       "      <td>TRUE</td>\n",
       "      <td>CONNECTED</td>\n",
       "      <td>NETGEAR44</td>\n",
       "      <td>FALSE</td>\n",
       "      <td>FALSE</td>\n",
       "      <td>...</td>\n",
       "      <td>null</td>\n",
       "      <td>123.963</td>\n",
       "      <td>fused</td>\n",
       "      <td>0</td>\n",
       "      <td>null</td>\n",
       "      <td>null</td>\n",
       "      <td>null</td>\n",
       "      <td>null</td>\n",
       "      <td>null</td>\n",
       "      <td>11/08/2017 17:00</td>\n",
       "    </tr>\n",
       "    <tr>\n",
       "      <th>1</th>\n",
       "      <td>2.0</td>\n",
       "      <td>1762.0 Kbps</td>\n",
       "      <td>GLOBE</td>\n",
       "      <td>LTE : -97</td>\n",
       "      <td>null</td>\n",
       "      <td>TRUE</td>\n",
       "      <td>CONNECTED</td>\n",
       "      <td>NETGEAR44</td>\n",
       "      <td>FALSE</td>\n",
       "      <td>FALSE</td>\n",
       "      <td>...</td>\n",
       "      <td>null</td>\n",
       "      <td>123.963</td>\n",
       "      <td>fused</td>\n",
       "      <td>0</td>\n",
       "      <td>null</td>\n",
       "      <td>null</td>\n",
       "      <td>null</td>\n",
       "      <td>null</td>\n",
       "      <td>null</td>\n",
       "      <td>11/08/2017 17:00</td>\n",
       "    </tr>\n",
       "    <tr>\n",
       "      <th>2</th>\n",
       "      <td>3.0</td>\n",
       "      <td>188.0 Kbps</td>\n",
       "      <td>GLOBE</td>\n",
       "      <td>WCDMA : -79</td>\n",
       "      <td>null</td>\n",
       "      <td>TRUE</td>\n",
       "      <td>CONNECTED</td>\n",
       "      <td>internet.globe.com.ph</td>\n",
       "      <td>FALSE</td>\n",
       "      <td>FALSE</td>\n",
       "      <td>...</td>\n",
       "      <td>0</td>\n",
       "      <td>120.439</td>\n",
       "      <td>fused</td>\n",
       "      <td>0</td>\n",
       "      <td>null</td>\n",
       "      <td>null</td>\n",
       "      <td>null</td>\n",
       "      <td>null</td>\n",
       "      <td>null</td>\n",
       "      <td>11/08/2017 17:00</td>\n",
       "    </tr>\n",
       "    <tr>\n",
       "      <th>3</th>\n",
       "      <td>4.0</td>\n",
       "      <td>163.0 Kbps</td>\n",
       "      <td>GLOBE</td>\n",
       "      <td>WCDMA : -103</td>\n",
       "      <td>null</td>\n",
       "      <td>TRUE</td>\n",
       "      <td>CONNECTED</td>\n",
       "      <td>internet.globe.com.ph</td>\n",
       "      <td>FALSE</td>\n",
       "      <td>FALSE</td>\n",
       "      <td>...</td>\n",
       "      <td>0</td>\n",
       "      <td>120.439</td>\n",
       "      <td>fused</td>\n",
       "      <td>0</td>\n",
       "      <td>null</td>\n",
       "      <td>null</td>\n",
       "      <td>null</td>\n",
       "      <td>null</td>\n",
       "      <td>null</td>\n",
       "      <td>11/08/2017 17:00</td>\n",
       "    </tr>\n",
       "    <tr>\n",
       "      <th>4</th>\n",
       "      <td>5.0</td>\n",
       "      <td>163.0 Kbps</td>\n",
       "      <td>GLOBE</td>\n",
       "      <td>WCDMA : -103</td>\n",
       "      <td>null</td>\n",
       "      <td>TRUE</td>\n",
       "      <td>CONNECTED</td>\n",
       "      <td>internet.globe.com.ph</td>\n",
       "      <td>FALSE</td>\n",
       "      <td>FALSE</td>\n",
       "      <td>...</td>\n",
       "      <td>0</td>\n",
       "      <td>120.439</td>\n",
       "      <td>fused</td>\n",
       "      <td>0</td>\n",
       "      <td>null</td>\n",
       "      <td>null</td>\n",
       "      <td>null</td>\n",
       "      <td>null</td>\n",
       "      <td>null</td>\n",
       "      <td>11/08/2017 17:00</td>\n",
       "    </tr>\n",
       "  </tbody>\n",
       "</table>\n",
       "<p>5 rows × 43 columns</p>\n",
       "</div>"
      ],
      "text/plain": [
       "   TESTNUMBER    BANDWIDTH OPERATOR        SIGNAL SIGNALBARS  \\\n",
       "0         1.0  1762.0 Kbps    GLOBE     LTE : -97       null   \n",
       "1         2.0  1762.0 Kbps    GLOBE     LTE : -97       null   \n",
       "2         3.0   188.0 Kbps    GLOBE   WCDMA : -79       null   \n",
       "3         4.0   163.0 Kbps    GLOBE  WCDMA : -103       null   \n",
       "4         5.0   163.0 Kbps    GLOBE  WCDMA : -103       null   \n",
       "\n",
       "  CONNECTIVITY_available CONNECTIVITY_detailedState CONNECTIVITY_extraInfo  \\\n",
       "0                   TRUE                  CONNECTED              NETGEAR44   \n",
       "1                   TRUE                  CONNECTED              NETGEAR44   \n",
       "2                   TRUE                  CONNECTED  internet.globe.com.ph   \n",
       "3                   TRUE                  CONNECTED  internet.globe.com.ph   \n",
       "4                   TRUE                  CONNECTED  internet.globe.com.ph   \n",
       "\n",
       "  CONNECTIVITY_failOver CONNECTIVITY_roaming        ...          \\\n",
       "0                 FALSE                FALSE        ...           \n",
       "1                 FALSE                FALSE        ...           \n",
       "2                 FALSE                FALSE        ...           \n",
       "3                 FALSE                FALSE        ...           \n",
       "4                 FALSE                FALSE        ...           \n",
       "\n",
       "  LOCATION_mLon2 LOCATION_mLongitude LOCATION_mProvider LOCATION_mSpeed  \\\n",
       "0           null             123.963              fused               0   \n",
       "1           null             123.963              fused               0   \n",
       "2              0             120.439              fused               0   \n",
       "3              0             120.439              fused               0   \n",
       "4              0             120.439              fused               0   \n",
       "\n",
       "  NETWORK_cid NETWORK_lac NETWORK_mcc NETWORK_mnc VERSION LOCATION_epochTime  \n",
       "0        null        null        null        null    null   11/08/2017 17:00  \n",
       "1        null        null        null        null    null   11/08/2017 17:00  \n",
       "2        null        null        null        null    null   11/08/2017 17:00  \n",
       "3        null        null        null        null    null   11/08/2017 17:00  \n",
       "4        null        null        null        null    null   11/08/2017 17:00  \n",
       "\n",
       "[5 rows x 43 columns]"
      ]
     },
     "execution_count": 10,
     "metadata": {},
     "output_type": "execute_result"
    }
   ],
   "source": [
    "df.head()"
   ]
  },
  {
   "cell_type": "markdown",
   "metadata": {},
   "source": [
    "Converting the epochTime into a date-time object for easier date-time manipulation"
   ]
  },
  {
   "cell_type": "code",
   "execution_count": 11,
   "metadata": {},
   "outputs": [
    {
     "data": {
      "text/plain": [
       "dtype('O')"
      ]
     },
     "execution_count": 11,
     "metadata": {},
     "output_type": "execute_result"
    }
   ],
   "source": [
    "# checking what type of object is the epochTime\n",
    "df['LOCATION_epochTime'].dtype"
   ]
  },
  {
   "cell_type": "code",
   "execution_count": 12,
   "metadata": {
    "collapsed": true
   },
   "outputs": [],
   "source": [
    "# Converting epochTime to datetime object\n",
    "df['LOCATION_epochTime'] = pd.to_datetime(df['LOCATION_epochTime'])"
   ]
  },
  {
   "cell_type": "code",
   "execution_count": 13,
   "metadata": {},
   "outputs": [
    {
     "data": {
      "text/plain": [
       "dtype('<M8[ns]')"
      ]
     },
     "execution_count": 13,
     "metadata": {},
     "output_type": "execute_result"
    }
   ],
   "source": [
    "df['LOCATION_epochTime'].dtype"
   ]
  },
  {
   "cell_type": "markdown",
   "metadata": {},
   "source": [
    "Checking to see whether the data has dates less than the year 2017"
   ]
  },
  {
   "cell_type": "code",
   "execution_count": 14,
   "metadata": {},
   "outputs": [
    {
     "data": {
      "text/html": [
       "<div>\n",
       "<style>\n",
       "    .dataframe thead tr:only-child th {\n",
       "        text-align: right;\n",
       "    }\n",
       "\n",
       "    .dataframe thead th {\n",
       "        text-align: left;\n",
       "    }\n",
       "\n",
       "    .dataframe tbody tr th {\n",
       "        vertical-align: top;\n",
       "    }\n",
       "</style>\n",
       "<table border=\"1\" class=\"dataframe\">\n",
       "  <thead>\n",
       "    <tr style=\"text-align: right;\">\n",
       "      <th></th>\n",
       "      <th>TESTNUMBER</th>\n",
       "      <th>BANDWIDTH</th>\n",
       "      <th>OPERATOR</th>\n",
       "      <th>SIGNAL</th>\n",
       "      <th>SIGNALBARS</th>\n",
       "      <th>CONNECTIVITY_available</th>\n",
       "      <th>CONNECTIVITY_detailedState</th>\n",
       "      <th>CONNECTIVITY_extraInfo</th>\n",
       "      <th>CONNECTIVITY_failOver</th>\n",
       "      <th>CONNECTIVITY_roaming</th>\n",
       "      <th>...</th>\n",
       "      <th>LOCATION_mLon2</th>\n",
       "      <th>LOCATION_mLongitude</th>\n",
       "      <th>LOCATION_mProvider</th>\n",
       "      <th>LOCATION_mSpeed</th>\n",
       "      <th>NETWORK_cid</th>\n",
       "      <th>NETWORK_lac</th>\n",
       "      <th>NETWORK_mcc</th>\n",
       "      <th>NETWORK_mnc</th>\n",
       "      <th>VERSION</th>\n",
       "      <th>LOCATION_epochTime</th>\n",
       "    </tr>\n",
       "  </thead>\n",
       "  <tbody>\n",
       "    <tr>\n",
       "      <th>6262</th>\n",
       "      <td>6264.0</td>\n",
       "      <td>3973 Kbps</td>\n",
       "      <td>Globe</td>\n",
       "      <td>LTE : -113</td>\n",
       "      <td>0</td>\n",
       "      <td>TRUE</td>\n",
       "      <td>CONNECTED</td>\n",
       "      <td>GAPLabs</td>\n",
       "      <td>Inc - Alegro Rm.</td>\n",
       "      <td>FALSE</td>\n",
       "      <td>...</td>\n",
       "      <td>null</td>\n",
       "      <td>null</td>\n",
       "      <td>125.001</td>\n",
       "      <td>fused</td>\n",
       "      <td>0</td>\n",
       "      <td>null</td>\n",
       "      <td>null</td>\n",
       "      <td>null</td>\n",
       "      <td>null</td>\n",
       "      <td>2000-01-01</td>\n",
       "    </tr>\n",
       "  </tbody>\n",
       "</table>\n",
       "<p>1 rows × 43 columns</p>\n",
       "</div>"
      ],
      "text/plain": [
       "      TESTNUMBER  BANDWIDTH OPERATOR      SIGNAL SIGNALBARS  \\\n",
       "6262      6264.0  3973 Kbps    Globe  LTE : -113          0   \n",
       "\n",
       "     CONNECTIVITY_available CONNECTIVITY_detailedState CONNECTIVITY_extraInfo  \\\n",
       "6262                   TRUE                  CONNECTED                GAPLabs   \n",
       "\n",
       "     CONNECTIVITY_failOver CONNECTIVITY_roaming        ...          \\\n",
       "6262      Inc - Alegro Rm.                FALSE        ...           \n",
       "\n",
       "     LOCATION_mLon2 LOCATION_mLongitude LOCATION_mProvider LOCATION_mSpeed  \\\n",
       "6262           null                null            125.001           fused   \n",
       "\n",
       "     NETWORK_cid NETWORK_lac NETWORK_mcc NETWORK_mnc VERSION  \\\n",
       "6262           0        null        null        null    null   \n",
       "\n",
       "     LOCATION_epochTime  \n",
       "6262         2000-01-01  \n",
       "\n",
       "[1 rows x 43 columns]"
      ]
     },
     "execution_count": 14,
     "metadata": {},
     "output_type": "execute_result"
    }
   ],
   "source": [
    "df[df['LOCATION_epochTime'] < pd.datetime(2017,1,1)]"
   ]
  },
  {
   "cell_type": "markdown",
   "metadata": {},
   "source": [
    "Dropping the date since it yield erronous data"
   ]
  },
  {
   "cell_type": "code",
   "execution_count": 15,
   "metadata": {
    "collapsed": true
   },
   "outputs": [],
   "source": [
    "df = df.drop(6262)"
   ]
  },
  {
   "cell_type": "code",
   "execution_count": 16,
   "metadata": {},
   "outputs": [
    {
     "data": {
      "text/html": [
       "<div>\n",
       "<style>\n",
       "    .dataframe thead tr:only-child th {\n",
       "        text-align: right;\n",
       "    }\n",
       "\n",
       "    .dataframe thead th {\n",
       "        text-align: left;\n",
       "    }\n",
       "\n",
       "    .dataframe tbody tr th {\n",
       "        vertical-align: top;\n",
       "    }\n",
       "</style>\n",
       "<table border=\"1\" class=\"dataframe\">\n",
       "  <thead>\n",
       "    <tr style=\"text-align: right;\">\n",
       "      <th></th>\n",
       "      <th>TESTNUMBER</th>\n",
       "      <th>BANDWIDTH</th>\n",
       "      <th>OPERATOR</th>\n",
       "      <th>SIGNAL</th>\n",
       "      <th>SIGNALBARS</th>\n",
       "      <th>CONNECTIVITY_available</th>\n",
       "      <th>CONNECTIVITY_detailedState</th>\n",
       "      <th>CONNECTIVITY_extraInfo</th>\n",
       "      <th>CONNECTIVITY_failOver</th>\n",
       "      <th>CONNECTIVITY_roaming</th>\n",
       "      <th>...</th>\n",
       "      <th>LOCATION_mLon2</th>\n",
       "      <th>LOCATION_mLongitude</th>\n",
       "      <th>LOCATION_mProvider</th>\n",
       "      <th>LOCATION_mSpeed</th>\n",
       "      <th>NETWORK_cid</th>\n",
       "      <th>NETWORK_lac</th>\n",
       "      <th>NETWORK_mcc</th>\n",
       "      <th>NETWORK_mnc</th>\n",
       "      <th>VERSION</th>\n",
       "      <th>LOCATION_epochTime</th>\n",
       "    </tr>\n",
       "  </thead>\n",
       "  <tbody>\n",
       "  </tbody>\n",
       "</table>\n",
       "<p>0 rows × 43 columns</p>\n",
       "</div>"
      ],
      "text/plain": [
       "Empty DataFrame\n",
       "Columns: [TESTNUMBER, BANDWIDTH, OPERATOR, SIGNAL, SIGNALBARS, CONNECTIVITY_available, CONNECTIVITY_detailedState, CONNECTIVITY_extraInfo, CONNECTIVITY_failOver, CONNECTIVITY_roaming, CONNECTIVITY_state, CONNECTIVITY_subType, CONNECTIVITY_subTypeName, CONNECTIVITY_type, CONNECTIVITY_typeName, DEVICE_manufacturer, DEVICE_model, DEVICE_name, DEVICE_release, LOCATION_mAccuracy, LOCATION_mAltitude, LOCATION_mDistance, LOCATION_mElapsedRealtimeNanos, LOCATION_mHasAccuracy, LOCATION_mHasAltitude, LOCATION_mHasBearing, LOCATION_mHasSpeed, LOCATION_mInitialBearing, LOCATION_mIsFromMockProvider, LOCATION_mLat1, LOCATION_mLat2, LOCATION_mLatitude, LOCATION_mLon1, LOCATION_mLon2, LOCATION_mLongitude, LOCATION_mProvider, LOCATION_mSpeed, NETWORK_cid, NETWORK_lac, NETWORK_mcc, NETWORK_mnc, VERSION, LOCATION_epochTime]\n",
       "Index: []\n",
       "\n",
       "[0 rows x 43 columns]"
      ]
     },
     "execution_count": 16,
     "metadata": {},
     "output_type": "execute_result"
    }
   ],
   "source": [
    "df[df['LOCATION_epochTime'] < pd.datetime(2017,1,1)]"
   ]
  },
  {
   "cell_type": "code",
   "execution_count": 17,
   "metadata": {},
   "outputs": [
    {
     "data": {
      "text/plain": [
       "(222962, 43)"
      ]
     },
     "execution_count": 17,
     "metadata": {},
     "output_type": "execute_result"
    }
   ],
   "source": [
    "df.shape"
   ]
  },
  {
   "cell_type": "markdown",
   "metadata": {},
   "source": [
    "## Step 2: Plotting"
   ]
  },
  {
   "cell_type": "code",
   "execution_count": 18,
   "metadata": {
    "collapsed": true
   },
   "outputs": [],
   "source": [
    "import matplotlib.pyplot as plt\n",
    "%matplotlib inline"
   ]
  },
  {
   "cell_type": "code",
   "execution_count": 19,
   "metadata": {},
   "outputs": [
    {
     "data": {
      "text/plain": [
       "[<matplotlib.lines.Line2D at 0x254e358b940>]"
      ]
     },
     "execution_count": 19,
     "metadata": {},
     "output_type": "execute_result"
    },
    {
     "data": {
      "image/png": "[encoded data removed]",
      "text/plain": [
       "<matplotlib.figure.Figure at 0x254e33f27f0>"
      ]
     },
     "metadata": {},
     "output_type": "display_data"
    }
   ],
   "source": [
    "plt.figure(figsize=[15,10])\n",
    "plt.plot(df['TESTNUMBER'],df['LOCATION_epochTime'])"
   ]
  },
  {
   "cell_type": "markdown",
   "metadata": {
    "collapsed": true
   },
   "source": [
    "The graph shows that the Time series is more believable"
   ]
  },
  {
   "cell_type": "code",
   "execution_count": 20,
   "metadata": {},
   "outputs": [
    {
     "data": {
      "text/plain": [
       "array(['GLOBE', 'SMART GOLD 3G', nan, 'SMART', 'SUN', 'Smart', 'Globe',\n",
       "       'INFINITY 3G', 'Sun', 'T-Mobile', 'Globe Telecom-PH', 'Android',\n",
       "       'SMART Prepaid', 'Globe Telecom', 'null', 'StarHub', 'Talk N Text',\n",
       "       'TM', 'SMART Buddy', 'TNT', 'Singtel', 'Chunghwa Telecom',\n",
       "       'Verizon', 'AT&T', 'ATT', 'Carrier', 'INFINITY', 'Sun Cellular',\n",
       "       '??????', 'Smart Communications Inc', 'SMART Buddy-GLOBE',\n",
       "       'Family Mobile', 'STC', 'SAMSUNG', 'ABS-CBN', 'SUN CELLULAR',\n",
       "       'LG U+', 'Sprint', 'Vodafone', 'etisalat', 'iPad', 'PLDT LL+',\n",
       "       'MetroPCS', 'M1 Singapore', 'Mobily', 'Boost', 'SMART Bro',\n",
       "       'cricket', 'Carolina West', 'Ooredoo', '525999', 'Far EasTone',\n",
       "       'TFW', 'Claro Costa Rica', 'O2 - UK', 'U.S. Cellular', 'Cellcom',\n",
       "       'CC', 'SGP-M1', 'Wataniya', '3 Macau', 'Starhub',\n",
       "       'GLOBE-SMART Prepaid', 'Grameenphone', '1&1', 'SMART Prepaid-', '-',\n",
       "       '51502', 'Cherry Prepaid', 'PH Sun Cellular', '51503', 'Globe-',\n",
       "       'du', 'SUN-GLOBE', 'Maxis', 'Globe-Smart', 'SMART Prepaid-GLOBE',\n",
       "       'Smart ', 'TM-SMART Prepaid', 'No service', 'Emergency calls only',\n",
       "       'Smart-TM', 'Digi | SMART GOLD 3G', 'GLOBE-Cherry Prepaid',\n",
       "       'SKTelecom | GLOBE', 'GLOBE-', 'CHN-UNICOM', 'Zain KSA', 'Tele2',\n",
       "       'M1', 'VIVO', 'Orange F', 'Rogers', 'Singtel | GLOBE', 'TRUE-H',\n",
       "       'AirTel', 'MY MAXIS | GLOBE', 'Viaero', 'MegaFon', 'MTN', '????',\n",
       "       'Viettel', 'Telekom.de | GLOBE', 'movistar', '3', 'Telcel',\n",
       "       'MARINO TEXT', 'Telenor', 'Claro Dominicana', 'ROGERS',\n",
       "       'TRUE 3G+ | TRUE-H', 'Telia N', 'AIS | GLOBE', 'AIS',\n",
       "       '3 AT | GLOBE', 'Telekom HU | GLOBE', 'T-Mobile A | GLOBE',\n",
       "       'Orange F | GLOBE', 'Vodacom', 'F-Bouygues Telecom | GLOBE',\n",
       "       'StarHub | SMART GOLD 3G', 'BT-C', 'TIGO HND', 'TELUS',\n",
       "       'Partner Israel', 'I WIND | GLOBE', 'giffgaff', 'Telkomsel', 'XL',\n",
       "       'Jio', 'ETISALAT', 'CSL', 'T-mobile', 'entel', 'o2-de', 'O2 - SK',\n",
       "       'TIGO', 'Vodafone India', 'Vinaphone', ' CSL ', 'O2',\n",
       "       'O2 - UK | GLOBE', 'mobitel', 'Indosat', 'VODAFONE TR', 'Ncell',\n",
       "       'Salt', ' CSL  | GLOBE'], dtype=object)"
      ]
     },
     "execution_count": 20,
     "metadata": {},
     "output_type": "execute_result"
    }
   ],
   "source": [
    "df['OPERATOR'].unique()"
   ]
  },
  {
   "cell_type": "markdown",
   "metadata": {},
   "source": [
    "<b> QUESTION: Do we only consider Globe, Smart, Sun and other local network? Did you drop the other operators? </b>"
   ]
  },
  {
   "cell_type": "code",
   "execution_count": 21,
   "metadata": {},
   "outputs": [
    {
     "data": {
      "text/plain": [
       "array(['1762.0 Kbps', '188.0 Kbps', '163.0 Kbps', ..., '18532 Kbps',\n",
       "       '15361 Kbps', '14068 Kbps'], dtype=object)"
      ]
     },
     "execution_count": 21,
     "metadata": {},
     "output_type": "execute_result"
    }
   ],
   "source": [
    "df['BANDWIDTH'].unique()"
   ]
  },
  {
   "cell_type": "markdown",
   "metadata": {},
   "source": [
    "Removing Kbps string"
   ]
  },
  {
   "cell_type": "code",
   "execution_count": 22,
   "metadata": {},
   "outputs": [
    {
     "data": {
      "text/html": [
       "<div>\n",
       "<style>\n",
       "    .dataframe thead tr:only-child th {\n",
       "        text-align: right;\n",
       "    }\n",
       "\n",
       "    .dataframe thead th {\n",
       "        text-align: left;\n",
       "    }\n",
       "\n",
       "    .dataframe tbody tr th {\n",
       "        vertical-align: top;\n",
       "    }\n",
       "</style>\n",
       "<table border=\"1\" class=\"dataframe\">\n",
       "  <thead>\n",
       "    <tr style=\"text-align: right;\">\n",
       "      <th></th>\n",
       "      <th>TESTNUMBER</th>\n",
       "      <th>BANDWIDTH</th>\n",
       "      <th>OPERATOR</th>\n",
       "      <th>SIGNAL</th>\n",
       "      <th>SIGNALBARS</th>\n",
       "      <th>CONNECTIVITY_available</th>\n",
       "      <th>CONNECTIVITY_detailedState</th>\n",
       "      <th>CONNECTIVITY_extraInfo</th>\n",
       "      <th>CONNECTIVITY_failOver</th>\n",
       "      <th>CONNECTIVITY_roaming</th>\n",
       "      <th>...</th>\n",
       "      <th>LOCATION_mLon2</th>\n",
       "      <th>LOCATION_mLongitude</th>\n",
       "      <th>LOCATION_mProvider</th>\n",
       "      <th>LOCATION_mSpeed</th>\n",
       "      <th>NETWORK_cid</th>\n",
       "      <th>NETWORK_lac</th>\n",
       "      <th>NETWORK_mcc</th>\n",
       "      <th>NETWORK_mnc</th>\n",
       "      <th>VERSION</th>\n",
       "      <th>LOCATION_epochTime</th>\n",
       "    </tr>\n",
       "  </thead>\n",
       "  <tbody>\n",
       "    <tr>\n",
       "      <th>0</th>\n",
       "      <td>1.0</td>\n",
       "      <td>1762.0</td>\n",
       "      <td>GLOBE</td>\n",
       "      <td>LTE : -97</td>\n",
       "      <td>null</td>\n",
       "      <td>TRUE</td>\n",
       "      <td>CONNECTED</td>\n",
       "      <td>NETGEAR44</td>\n",
       "      <td>FALSE</td>\n",
       "      <td>FALSE</td>\n",
       "      <td>...</td>\n",
       "      <td>null</td>\n",
       "      <td>123.963</td>\n",
       "      <td>fused</td>\n",
       "      <td>0</td>\n",
       "      <td>null</td>\n",
       "      <td>null</td>\n",
       "      <td>null</td>\n",
       "      <td>null</td>\n",
       "      <td>null</td>\n",
       "      <td>2017-11-08 17:00:00</td>\n",
       "    </tr>\n",
       "    <tr>\n",
       "      <th>1</th>\n",
       "      <td>2.0</td>\n",
       "      <td>1762.0</td>\n",
       "      <td>GLOBE</td>\n",
       "      <td>LTE : -97</td>\n",
       "      <td>null</td>\n",
       "      <td>TRUE</td>\n",
       "      <td>CONNECTED</td>\n",
       "      <td>NETGEAR44</td>\n",
       "      <td>FALSE</td>\n",
       "      <td>FALSE</td>\n",
       "      <td>...</td>\n",
       "      <td>null</td>\n",
       "      <td>123.963</td>\n",
       "      <td>fused</td>\n",
       "      <td>0</td>\n",
       "      <td>null</td>\n",
       "      <td>null</td>\n",
       "      <td>null</td>\n",
       "      <td>null</td>\n",
       "      <td>null</td>\n",
       "      <td>2017-11-08 17:00:00</td>\n",
       "    </tr>\n",
       "    <tr>\n",
       "      <th>2</th>\n",
       "      <td>3.0</td>\n",
       "      <td>188.0</td>\n",
       "      <td>GLOBE</td>\n",
       "      <td>WCDMA : -79</td>\n",
       "      <td>null</td>\n",
       "      <td>TRUE</td>\n",
       "      <td>CONNECTED</td>\n",
       "      <td>internet.globe.com.ph</td>\n",
       "      <td>FALSE</td>\n",
       "      <td>FALSE</td>\n",
       "      <td>...</td>\n",
       "      <td>0</td>\n",
       "      <td>120.439</td>\n",
       "      <td>fused</td>\n",
       "      <td>0</td>\n",
       "      <td>null</td>\n",
       "      <td>null</td>\n",
       "      <td>null</td>\n",
       "      <td>null</td>\n",
       "      <td>null</td>\n",
       "      <td>2017-11-08 17:00:00</td>\n",
       "    </tr>\n",
       "    <tr>\n",
       "      <th>3</th>\n",
       "      <td>4.0</td>\n",
       "      <td>163.0</td>\n",
       "      <td>GLOBE</td>\n",
       "      <td>WCDMA : -103</td>\n",
       "      <td>null</td>\n",
       "      <td>TRUE</td>\n",
       "      <td>CONNECTED</td>\n",
       "      <td>internet.globe.com.ph</td>\n",
       "      <td>FALSE</td>\n",
       "      <td>FALSE</td>\n",
       "      <td>...</td>\n",
       "      <td>0</td>\n",
       "      <td>120.439</td>\n",
       "      <td>fused</td>\n",
       "      <td>0</td>\n",
       "      <td>null</td>\n",
       "      <td>null</td>\n",
       "      <td>null</td>\n",
       "      <td>null</td>\n",
       "      <td>null</td>\n",
       "      <td>2017-11-08 17:00:00</td>\n",
       "    </tr>\n",
       "    <tr>\n",
       "      <th>4</th>\n",
       "      <td>5.0</td>\n",
       "      <td>163.0</td>\n",
       "      <td>GLOBE</td>\n",
       "      <td>WCDMA : -103</td>\n",
       "      <td>null</td>\n",
       "      <td>TRUE</td>\n",
       "      <td>CONNECTED</td>\n",
       "      <td>internet.globe.com.ph</td>\n",
       "      <td>FALSE</td>\n",
       "      <td>FALSE</td>\n",
       "      <td>...</td>\n",
       "      <td>0</td>\n",
       "      <td>120.439</td>\n",
       "      <td>fused</td>\n",
       "      <td>0</td>\n",
       "      <td>null</td>\n",
       "      <td>null</td>\n",
       "      <td>null</td>\n",
       "      <td>null</td>\n",
       "      <td>null</td>\n",
       "      <td>2017-11-08 17:00:00</td>\n",
       "    </tr>\n",
       "  </tbody>\n",
       "</table>\n",
       "<p>5 rows × 43 columns</p>\n",
       "</div>"
      ],
      "text/plain": [
       "   TESTNUMBER BANDWIDTH OPERATOR        SIGNAL SIGNALBARS  \\\n",
       "0         1.0   1762.0     GLOBE     LTE : -97       null   \n",
       "1         2.0   1762.0     GLOBE     LTE : -97       null   \n",
       "2         3.0    188.0     GLOBE   WCDMA : -79       null   \n",
       "3         4.0    163.0     GLOBE  WCDMA : -103       null   \n",
       "4         5.0    163.0     GLOBE  WCDMA : -103       null   \n",
       "\n",
       "  CONNECTIVITY_available CONNECTIVITY_detailedState CONNECTIVITY_extraInfo  \\\n",
       "0                   TRUE                  CONNECTED              NETGEAR44   \n",
       "1                   TRUE                  CONNECTED              NETGEAR44   \n",
       "2                   TRUE                  CONNECTED  internet.globe.com.ph   \n",
       "3                   TRUE                  CONNECTED  internet.globe.com.ph   \n",
       "4                   TRUE                  CONNECTED  internet.globe.com.ph   \n",
       "\n",
       "  CONNECTIVITY_failOver CONNECTIVITY_roaming         ...          \\\n",
       "0                 FALSE                FALSE         ...           \n",
       "1                 FALSE                FALSE         ...           \n",
       "2                 FALSE                FALSE         ...           \n",
       "3                 FALSE                FALSE         ...           \n",
       "4                 FALSE                FALSE         ...           \n",
       "\n",
       "  LOCATION_mLon2 LOCATION_mLongitude LOCATION_mProvider LOCATION_mSpeed  \\\n",
       "0           null             123.963              fused               0   \n",
       "1           null             123.963              fused               0   \n",
       "2              0             120.439              fused               0   \n",
       "3              0             120.439              fused               0   \n",
       "4              0             120.439              fused               0   \n",
       "\n",
       "  NETWORK_cid NETWORK_lac NETWORK_mcc NETWORK_mnc VERSION  LOCATION_epochTime  \n",
       "0        null        null        null        null    null 2017-11-08 17:00:00  \n",
       "1        null        null        null        null    null 2017-11-08 17:00:00  \n",
       "2        null        null        null        null    null 2017-11-08 17:00:00  \n",
       "3        null        null        null        null    null 2017-11-08 17:00:00  \n",
       "4        null        null        null        null    null 2017-11-08 17:00:00  \n",
       "\n",
       "[5 rows x 43 columns]"
      ]
     },
     "execution_count": 22,
     "metadata": {},
     "output_type": "execute_result"
    }
   ],
   "source": [
    "df['BANDWIDTH'] = df['BANDWIDTH'].str.replace('Kbps','')\n",
    "df.head()"
   ]
  },
  {
   "cell_type": "markdown",
   "metadata": {},
   "source": [
    "Removing the null string values in the dataframe"
   ]
  },
  {
   "cell_type": "code",
   "execution_count": 23,
   "metadata": {
    "collapsed": true
   },
   "outputs": [],
   "source": [
    "df = df[df['BANDWIDTH'] != 'null']"
   ]
  },
  {
   "cell_type": "code",
   "execution_count": 24,
   "metadata": {},
   "outputs": [
    {
     "data": {
      "text/html": [
       "<div>\n",
       "<style>\n",
       "    .dataframe thead tr:only-child th {\n",
       "        text-align: right;\n",
       "    }\n",
       "\n",
       "    .dataframe thead th {\n",
       "        text-align: left;\n",
       "    }\n",
       "\n",
       "    .dataframe tbody tr th {\n",
       "        vertical-align: top;\n",
       "    }\n",
       "</style>\n",
       "<table border=\"1\" class=\"dataframe\">\n",
       "  <thead>\n",
       "    <tr style=\"text-align: right;\">\n",
       "      <th></th>\n",
       "      <th>TESTNUMBER</th>\n",
       "      <th>BANDWIDTH</th>\n",
       "      <th>OPERATOR</th>\n",
       "      <th>SIGNAL</th>\n",
       "      <th>SIGNALBARS</th>\n",
       "      <th>CONNECTIVITY_available</th>\n",
       "      <th>CONNECTIVITY_detailedState</th>\n",
       "      <th>CONNECTIVITY_extraInfo</th>\n",
       "      <th>CONNECTIVITY_failOver</th>\n",
       "      <th>CONNECTIVITY_roaming</th>\n",
       "      <th>...</th>\n",
       "      <th>LOCATION_mLon2</th>\n",
       "      <th>LOCATION_mLongitude</th>\n",
       "      <th>LOCATION_mProvider</th>\n",
       "      <th>LOCATION_mSpeed</th>\n",
       "      <th>NETWORK_cid</th>\n",
       "      <th>NETWORK_lac</th>\n",
       "      <th>NETWORK_mcc</th>\n",
       "      <th>NETWORK_mnc</th>\n",
       "      <th>VERSION</th>\n",
       "      <th>LOCATION_epochTime</th>\n",
       "    </tr>\n",
       "  </thead>\n",
       "  <tbody>\n",
       "  </tbody>\n",
       "</table>\n",
       "<p>0 rows × 43 columns</p>\n",
       "</div>"
      ],
      "text/plain": [
       "Empty DataFrame\n",
       "Columns: [TESTNUMBER, BANDWIDTH, OPERATOR, SIGNAL, SIGNALBARS, CONNECTIVITY_available, CONNECTIVITY_detailedState, CONNECTIVITY_extraInfo, CONNECTIVITY_failOver, CONNECTIVITY_roaming, CONNECTIVITY_state, CONNECTIVITY_subType, CONNECTIVITY_subTypeName, CONNECTIVITY_type, CONNECTIVITY_typeName, DEVICE_manufacturer, DEVICE_model, DEVICE_name, DEVICE_release, LOCATION_mAccuracy, LOCATION_mAltitude, LOCATION_mDistance, LOCATION_mElapsedRealtimeNanos, LOCATION_mHasAccuracy, LOCATION_mHasAltitude, LOCATION_mHasBearing, LOCATION_mHasSpeed, LOCATION_mInitialBearing, LOCATION_mIsFromMockProvider, LOCATION_mLat1, LOCATION_mLat2, LOCATION_mLatitude, LOCATION_mLon1, LOCATION_mLon2, LOCATION_mLongitude, LOCATION_mProvider, LOCATION_mSpeed, NETWORK_cid, NETWORK_lac, NETWORK_mcc, NETWORK_mnc, VERSION, LOCATION_epochTime]\n",
       "Index: []\n",
       "\n",
       "[0 rows x 43 columns]"
      ]
     },
     "execution_count": 24,
     "metadata": {},
     "output_type": "execute_result"
    }
   ],
   "source": [
    "df[df['BANDWIDTH'] == 'null']"
   ]
  },
  {
   "cell_type": "markdown",
   "metadata": {},
   "source": [
    "Converting the BANDWIDTH column from object type to float type"
   ]
  },
  {
   "cell_type": "code",
   "execution_count": 25,
   "metadata": {
    "collapsed": true
   },
   "outputs": [],
   "source": [
    "df['BANDWIDTH'] = df['BANDWIDTH'].astype(float)"
   ]
  },
  {
   "cell_type": "markdown",
   "metadata": {},
   "source": [
    "Dropping the NAN and NULL values in the BANDWIDTH column"
   ]
  },
  {
   "cell_type": "code",
   "execution_count": 26,
   "metadata": {
    "collapsed": true
   },
   "outputs": [],
   "source": [
    "df = df.dropna(subset=['BANDWIDTH'])"
   ]
  },
  {
   "cell_type": "markdown",
   "metadata": {},
   "source": [
    "Initial plot for the Bandwidth data"
   ]
  },
  {
   "cell_type": "code",
   "execution_count": 27,
   "metadata": {},
   "outputs": [
    {
     "data": {
      "text/plain": [
       "<matplotlib.collections.PathCollection at 0x254800478d0>"
      ]
     },
     "execution_count": 27,
     "metadata": {},
     "output_type": "execute_result"
    },
    {
     "data": {
      "image/png": "[encoded data removed]",
      "text/plain": [
       "<matplotlib.figure.Figure at 0x254e3583940>"
      ]
     },
     "metadata": {},
     "output_type": "display_data"
    }
   ],
   "source": [
    "plt.figure(figsize=[15,10])\n",
    "plt.scatter(x = df['TESTNUMBER'], y=df['BANDWIDTH'])"
   ]
  },
  {
   "cell_type": "markdown",
   "metadata": {},
   "source": [
    "<b> Dropping below 5% and 95% percentile for eliminating the negative values and extreme values (outliers) </b>"
   ]
  },
  {
   "cell_type": "code",
   "execution_count": 28,
   "metadata": {},
   "outputs": [
    {
     "data": {
      "text/plain": [
       "count    2.228410e+05\n",
       "mean     7.301890e+03\n",
       "std      3.697356e+04\n",
       "min     -3.135780e+05\n",
       "5%       2.530000e+02\n",
       "25%      1.644000e+03\n",
       "50%      3.762000e+03\n",
       "75%      8.892000e+03\n",
       "95%      2.532500e+04\n",
       "max      1.439486e+07\n",
       "Name: BANDWIDTH, dtype: float64"
      ]
     },
     "execution_count": 28,
     "metadata": {},
     "output_type": "execute_result"
    }
   ],
   "source": [
    "df['BANDWIDTH'].describe(percentiles = [0.05, 0.25, 0.50, 0.75, 0.95])"
   ]
  },
  {
   "cell_type": "markdown",
   "metadata": {},
   "source": [
    "The 5% is at 253 and the 95% is at 25235"
   ]
  },
  {
   "cell_type": "code",
   "execution_count": 29,
   "metadata": {
    "collapsed": true
   },
   "outputs": [],
   "source": [
    "df = df[(df['BANDWIDTH'] <= 25325) & (df['BANDWIDTH'] >= 253)]"
   ]
  },
  {
   "cell_type": "code",
   "execution_count": 30,
   "metadata": {},
   "outputs": [
    {
     "data": {
      "text/html": [
       "<div>\n",
       "<style>\n",
       "    .dataframe thead tr:only-child th {\n",
       "        text-align: right;\n",
       "    }\n",
       "\n",
       "    .dataframe thead th {\n",
       "        text-align: left;\n",
       "    }\n",
       "\n",
       "    .dataframe tbody tr th {\n",
       "        vertical-align: top;\n",
       "    }\n",
       "</style>\n",
       "<table border=\"1\" class=\"dataframe\">\n",
       "  <thead>\n",
       "    <tr style=\"text-align: right;\">\n",
       "      <th></th>\n",
       "      <th>TESTNUMBER</th>\n",
       "      <th>BANDWIDTH</th>\n",
       "      <th>OPERATOR</th>\n",
       "      <th>SIGNAL</th>\n",
       "      <th>SIGNALBARS</th>\n",
       "      <th>CONNECTIVITY_available</th>\n",
       "      <th>CONNECTIVITY_detailedState</th>\n",
       "      <th>CONNECTIVITY_extraInfo</th>\n",
       "      <th>CONNECTIVITY_failOver</th>\n",
       "      <th>CONNECTIVITY_roaming</th>\n",
       "      <th>...</th>\n",
       "      <th>LOCATION_mLon2</th>\n",
       "      <th>LOCATION_mLongitude</th>\n",
       "      <th>LOCATION_mProvider</th>\n",
       "      <th>LOCATION_mSpeed</th>\n",
       "      <th>NETWORK_cid</th>\n",
       "      <th>NETWORK_lac</th>\n",
       "      <th>NETWORK_mcc</th>\n",
       "      <th>NETWORK_mnc</th>\n",
       "      <th>VERSION</th>\n",
       "      <th>LOCATION_epochTime</th>\n",
       "    </tr>\n",
       "  </thead>\n",
       "  <tbody>\n",
       "    <tr>\n",
       "      <th>0</th>\n",
       "      <td>1.0</td>\n",
       "      <td>1762.0</td>\n",
       "      <td>GLOBE</td>\n",
       "      <td>LTE : -97</td>\n",
       "      <td>null</td>\n",
       "      <td>TRUE</td>\n",
       "      <td>CONNECTED</td>\n",
       "      <td>NETGEAR44</td>\n",
       "      <td>FALSE</td>\n",
       "      <td>FALSE</td>\n",
       "      <td>...</td>\n",
       "      <td>null</td>\n",
       "      <td>123.963</td>\n",
       "      <td>fused</td>\n",
       "      <td>0</td>\n",
       "      <td>null</td>\n",
       "      <td>null</td>\n",
       "      <td>null</td>\n",
       "      <td>null</td>\n",
       "      <td>null</td>\n",
       "      <td>2017-11-08 17:00:00</td>\n",
       "    </tr>\n",
       "    <tr>\n",
       "      <th>1</th>\n",
       "      <td>2.0</td>\n",
       "      <td>1762.0</td>\n",
       "      <td>GLOBE</td>\n",
       "      <td>LTE : -97</td>\n",
       "      <td>null</td>\n",
       "      <td>TRUE</td>\n",
       "      <td>CONNECTED</td>\n",
       "      <td>NETGEAR44</td>\n",
       "      <td>FALSE</td>\n",
       "      <td>FALSE</td>\n",
       "      <td>...</td>\n",
       "      <td>null</td>\n",
       "      <td>123.963</td>\n",
       "      <td>fused</td>\n",
       "      <td>0</td>\n",
       "      <td>null</td>\n",
       "      <td>null</td>\n",
       "      <td>null</td>\n",
       "      <td>null</td>\n",
       "      <td>null</td>\n",
       "      <td>2017-11-08 17:00:00</td>\n",
       "    </tr>\n",
       "    <tr>\n",
       "      <th>7</th>\n",
       "      <td>8.0</td>\n",
       "      <td>6787.0</td>\n",
       "      <td>GLOBE</td>\n",
       "      <td>LTE : -73</td>\n",
       "      <td>null</td>\n",
       "      <td>TRUE</td>\n",
       "      <td>CONNECTED</td>\n",
       "      <td>internet.globe.com.ph</td>\n",
       "      <td>FALSE</td>\n",
       "      <td>FALSE</td>\n",
       "      <td>...</td>\n",
       "      <td>0</td>\n",
       "      <td>121.017</td>\n",
       "      <td>fused</td>\n",
       "      <td>0</td>\n",
       "      <td>null</td>\n",
       "      <td>null</td>\n",
       "      <td>null</td>\n",
       "      <td>null</td>\n",
       "      <td>null</td>\n",
       "      <td>2017-11-08 18:00:00</td>\n",
       "    </tr>\n",
       "    <tr>\n",
       "      <th>10</th>\n",
       "      <td>11.0</td>\n",
       "      <td>8547.0</td>\n",
       "      <td>GLOBE</td>\n",
       "      <td>LTE : -71</td>\n",
       "      <td>null</td>\n",
       "      <td>TRUE</td>\n",
       "      <td>CONNECTED</td>\n",
       "      <td>internet.globe.com.ph</td>\n",
       "      <td>FALSE</td>\n",
       "      <td>FALSE</td>\n",
       "      <td>...</td>\n",
       "      <td>0</td>\n",
       "      <td>121.017</td>\n",
       "      <td>fused</td>\n",
       "      <td>0</td>\n",
       "      <td>null</td>\n",
       "      <td>null</td>\n",
       "      <td>null</td>\n",
       "      <td>null</td>\n",
       "      <td>null</td>\n",
       "      <td>2017-11-08 18:00:00</td>\n",
       "    </tr>\n",
       "    <tr>\n",
       "      <th>11</th>\n",
       "      <td>12.0</td>\n",
       "      <td>6591.0</td>\n",
       "      <td>GLOBE</td>\n",
       "      <td>LTE : -72</td>\n",
       "      <td>null</td>\n",
       "      <td>TRUE</td>\n",
       "      <td>CONNECTED</td>\n",
       "      <td>internet.globe.com.ph</td>\n",
       "      <td>FALSE</td>\n",
       "      <td>FALSE</td>\n",
       "      <td>...</td>\n",
       "      <td>0</td>\n",
       "      <td>121.017</td>\n",
       "      <td>fused</td>\n",
       "      <td>0</td>\n",
       "      <td>null</td>\n",
       "      <td>null</td>\n",
       "      <td>null</td>\n",
       "      <td>null</td>\n",
       "      <td>null</td>\n",
       "      <td>2017-11-08 18:00:00</td>\n",
       "    </tr>\n",
       "  </tbody>\n",
       "</table>\n",
       "<p>5 rows × 43 columns</p>\n",
       "</div>"
      ],
      "text/plain": [
       "    TESTNUMBER  BANDWIDTH OPERATOR     SIGNAL SIGNALBARS  \\\n",
       "0          1.0     1762.0    GLOBE  LTE : -97       null   \n",
       "1          2.0     1762.0    GLOBE  LTE : -97       null   \n",
       "7          8.0     6787.0    GLOBE  LTE : -73       null   \n",
       "10        11.0     8547.0    GLOBE  LTE : -71       null   \n",
       "11        12.0     6591.0    GLOBE  LTE : -72       null   \n",
       "\n",
       "   CONNECTIVITY_available CONNECTIVITY_detailedState CONNECTIVITY_extraInfo  \\\n",
       "0                    TRUE                  CONNECTED              NETGEAR44   \n",
       "1                    TRUE                  CONNECTED              NETGEAR44   \n",
       "7                    TRUE                  CONNECTED  internet.globe.com.ph   \n",
       "10                   TRUE                  CONNECTED  internet.globe.com.ph   \n",
       "11                   TRUE                  CONNECTED  internet.globe.com.ph   \n",
       "\n",
       "   CONNECTIVITY_failOver CONNECTIVITY_roaming         ...          \\\n",
       "0                  FALSE                FALSE         ...           \n",
       "1                  FALSE                FALSE         ...           \n",
       "7                  FALSE                FALSE         ...           \n",
       "10                 FALSE                FALSE         ...           \n",
       "11                 FALSE                FALSE         ...           \n",
       "\n",
       "   LOCATION_mLon2 LOCATION_mLongitude LOCATION_mProvider LOCATION_mSpeed  \\\n",
       "0            null             123.963              fused               0   \n",
       "1            null             123.963              fused               0   \n",
       "7               0             121.017              fused               0   \n",
       "10              0             121.017              fused               0   \n",
       "11              0             121.017              fused               0   \n",
       "\n",
       "   NETWORK_cid NETWORK_lac NETWORK_mcc NETWORK_mnc VERSION  LOCATION_epochTime  \n",
       "0         null        null        null        null    null 2017-11-08 17:00:00  \n",
       "1         null        null        null        null    null 2017-11-08 17:00:00  \n",
       "7         null        null        null        null    null 2017-11-08 18:00:00  \n",
       "10        null        null        null        null    null 2017-11-08 18:00:00  \n",
       "11        null        null        null        null    null 2017-11-08 18:00:00  \n",
       "\n",
       "[5 rows x 43 columns]"
      ]
     },
     "execution_count": 30,
     "metadata": {},
     "output_type": "execute_result"
    }
   ],
   "source": [
    "df.head()"
   ]
  },
  {
   "cell_type": "code",
   "execution_count": 31,
   "metadata": {},
   "outputs": [
    {
     "data": {
      "text/plain": [
       "<matplotlib.collections.PathCollection at 0x254800ecc50>"
      ]
     },
     "execution_count": 31,
     "metadata": {},
     "output_type": "execute_result"
    },
    {
     "data": {
      "image/png": "[encoded data removed]",
      "text/plain": [
       "<matplotlib.figure.Figure at 0x254e3583400>"
      ]
     },
     "metadata": {},
     "output_type": "display_data"
    }
   ],
   "source": [
    "plt.figure(figsize= [15,10])\n",
    "plt.scatter(x = df['TESTNUMBER'], y = df['BANDWIDTH'])"
   ]
  },
  {
   "cell_type": "markdown",
   "metadata": {
    "collapsed": true
   },
   "source": [
    "As shown above, the plot looks more even and compact compared to the earlier graph which shows outliers. Cleaning the data using the 5 and 95 percentile is a good basis for removing the outlier data.\n",
    "\n",
    "A <a href = \"http://www.bigendiandata.com/2017-06-27-Mapping_in_Jupyter/\">link</a> is presented for my basis of this map plotting."
   ]
  },
  {
   "cell_type": "markdown",
   "metadata": {},
   "source": [
    "Cleaning the data in terms of longitude and latitude within the Philippines"
   ]
  },
  {
   "cell_type": "code",
   "execution_count": 32,
   "metadata": {
    "collapsed": true
   },
   "outputs": [],
   "source": [
    "# removing null values\n",
    "df = df[df['LOCATION_mLatitude']!='null']\n",
    "df = df[df['LOCATION_mLongitude']!='null']"
   ]
  },
  {
   "cell_type": "code",
   "execution_count": 33,
   "metadata": {
    "collapsed": true
   },
   "outputs": [],
   "source": [
    "# removing NaN and null values and converting the data into floats\n",
    "df['LOCATION_mLatitude'] = df['LOCATION_mLatitude'].dropna(how = 'all').astype(float)\n",
    "df['LOCATION_mLongitude'] = df['LOCATION_mLongitude'].dropna(how = 'all').astype(float)"
   ]
  },
  {
   "cell_type": "code",
   "execution_count": 34,
   "metadata": {
    "collapsed": true
   },
   "outputs": [],
   "source": [
    "# slicing the date to be within the range of Philippines' Longitude and Latitude\n",
    "df = df[(df['LOCATION_mLatitude'] < 20) & \n",
    "        (df['LOCATION_mLatitude'] > 6) & \n",
    "        (df['LOCATION_mLongitude']<130) & \n",
    "        (df['LOCATION_mLongitude']>117)]"
   ]
  },
  {
   "cell_type": "markdown",
   "metadata": {},
   "source": [
    "Plotting the bar chart for the most frequent operator"
   ]
  },
  {
   "cell_type": "code",
   "execution_count": 35,
   "metadata": {},
   "outputs": [
    {
     "data": {
      "text/plain": [
       "<matplotlib.axes._subplots.AxesSubplot at 0x25480097ef0>"
      ]
     },
     "execution_count": 35,
     "metadata": {},
     "output_type": "execute_result"
    },
    {
     "data": {
      "image/png": "[encoded data removed]",
      "text/plain": [
       "<matplotlib.figure.Figure at 0x254800b17f0>"
      ]
     },
     "metadata": {},
     "output_type": "display_data"
    }
   ],
   "source": [
    "df['OPERATOR'].value_counts().plot(kind = 'bar', figsize = [15,10])"
   ]
  },
  {
   "cell_type": "code",
   "execution_count": null,
   "metadata": {},
   "outputs": [],
   "source": [
    "# operator.loc[operator['OPERATOR'].str.contains(\"Globe\", na=False, case=False), 'OPERATOR'] = 'Globe'\n",
    "# operator.loc[operator['OPERATOR'].str.contains(\"Smart\", na=False, case=False), 'OPERATOR'] = 'Smart'\n",
    "# operator.loc[operator['OPERATOR'].str.contains(\"Sun\", na=False, case=False), 'OPERATOR'] = 'Sun'\n",
    "# operator.loc[operator['OPERATOR'].str.contains(\"TM\", na=False, case=False), 'OPERATOR'] = 'TM'\n",
    "# operator.loc[operator['OPERATOR'].str.contains(\"TNT\", na=False, case=False), 'OPERATOR'] = 'TnT'\n",
    "# operator.loc[operator['OPERATOR'].str.contains(\"Talk\", na=False, case=False), 'OPERATOR'] = 'TnT'"
   ]
  },
  {
   "cell_type": "code",
   "execution_count": 36,
   "metadata": {},
   "outputs": [
    {
     "data": {
      "text/plain": [
       "<matplotlib.axes._subplots.AxesSubplot at 0x25480f87c88>"
      ]
     },
     "execution_count": 36,
     "metadata": {},
     "output_type": "execute_result"
    },
    {
     "data": {
      "image/png": "[encoded data removed]",
      "text/plain": [
       "<matplotlib.figure.Figure at 0x254821baf60>"
      ]
     },
     "metadata": {},
     "output_type": "display_data"
    }
   ],
   "source": [
    "df['OPERATOR'].value_counts().plot(kind = 'bar', figsize = [15,10])"
   ]
  },
  {
   "cell_type": "markdown",
   "metadata": {},
   "source": [
    "Plotting the Map of the type of Operator, Bandwidth speed per Location via Longitude and Latitude"
   ]
  },
  {
   "cell_type": "code",
   "execution_count": 39,
   "metadata": {},
   "outputs": [
    {
     "data": {
      "image/png": "[encoded data removed]",
      "text/plain": [
       "<matplotlib.figure.Figure at 0x2549221ee10>"
      ]
     },
     "metadata": {},
     "output_type": "display_data"
    }
   ],
   "source": [
    "df.plot(kind = 'scatter', \n",
    "        y = 'LOCATION_mLatitude', \n",
    "        x = 'LOCATION_mLongitude', \n",
    "        s = df['BANDWIDTH']/100,\n",
    "        alpha = 0.2, \n",
    "        label = 'Bandwidth Strength',\n",
    "#         c = df['TESTNUMBER'],\n",
    "#         cmap = plt.get_cmap(\"jet\"),\n",
    "        figsize = [15,15])\n",
    "plt.legend()\n",
    "plt.show()"
   ]
  },
  {
   "cell_type": "code",
   "execution_count": null,
   "metadata": {
    "collapsed": true
   },
   "outputs": [],
   "source": []
  }
 ],
 "metadata": {
  "kernelspec": {
   "display_name": "Python 3",
   "language": "python",
   "name": "python3"
  },
  "language_info": {
   "codemirror_mode": {
    "name": "ipython",
    "version": 3
   },
   "file_extension": ".py",
   "mimetype": "text/x-python",
   "name": "python",
   "nbconvert_exporter": "python",
   "pygments_lexer": "ipython3",
   "version": "3.6.1"
  }
 },
 "nbformat": 4,
 "nbformat_minor": 2
}
